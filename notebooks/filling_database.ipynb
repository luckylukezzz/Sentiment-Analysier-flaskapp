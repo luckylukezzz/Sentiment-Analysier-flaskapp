{
 "nbformat": 4,
 "nbformat_minor": 0,
 "metadata": {
  "colab": {
   "provenance": []
  },
  "kernelspec": {
   "name": "python3",
   "display_name": "Python 3"
  },
  "language_info": {
   "name": "python"
  }
 },
 "cells": [
  {
   "cell_type": "code",
   "source": [
    "!pip install requests mysql-connector-python pandas\n"
   ],
   "metadata": {
    "colab": {
     "base_uri": "https://localhost:8080/"
    },
    "id": "TtgVYUGUppHc",
    "outputId": "aa102a42-e9e1-47c4-f445-2a36952607ec"
   },
   "execution_count": 18,
   "outputs": [
    {
     "output_type": "stream",
     "name": "stdout",
     "text": [
      "Requirement already satisfied: requests in /usr/local/lib/python3.10/dist-packages (2.31.0)\n",
      "Collecting mysql-connector-python\n",
      "  Downloading mysql_connector_python-9.0.0-cp310-cp310-manylinux_2_17_x86_64.whl (19.3 MB)\n",
      "\u001B[2K     \u001B[90m━━━━━━━━━━━━━━━━━━━━━━━━━━━━━━━━━━━━━━━━\u001B[0m \u001B[32m19.3/19.3 MB\u001B[0m \u001B[31m49.8 MB/s\u001B[0m eta \u001B[36m0:00:00\u001B[0m\n",
      "\u001B[?25hRequirement already satisfied: pandas in /usr/local/lib/python3.10/dist-packages (2.0.3)\n",
      "Requirement already satisfied: charset-normalizer<4,>=2 in /usr/local/lib/python3.10/dist-packages (from requests) (3.3.2)\n",
      "Requirement already satisfied: idna<4,>=2.5 in /usr/local/lib/python3.10/dist-packages (from requests) (3.7)\n",
      "Requirement already satisfied: urllib3<3,>=1.21.1 in /usr/local/lib/python3.10/dist-packages (from requests) (2.0.7)\n",
      "Requirement already satisfied: certifi>=2017.4.17 in /usr/local/lib/python3.10/dist-packages (from requests) (2024.6.2)\n",
      "Requirement already satisfied: python-dateutil>=2.8.2 in /usr/local/lib/python3.10/dist-packages (from pandas) (2.8.2)\n",
      "Requirement already satisfied: pytz>=2020.1 in /usr/local/lib/python3.10/dist-packages (from pandas) (2023.4)\n",
      "Requirement already satisfied: tzdata>=2022.1 in /usr/local/lib/python3.10/dist-packages (from pandas) (2024.1)\n",
      "Requirement already satisfied: numpy>=1.21.0 in /usr/local/lib/python3.10/dist-packages (from pandas) (1.25.2)\n",
      "Requirement already satisfied: six>=1.5 in /usr/local/lib/python3.10/dist-packages (from python-dateutil>=2.8.2->pandas) (1.16.0)\n",
      "Installing collected packages: mysql-connector-python\n",
      "Successfully installed mysql-connector-python-9.0.0\n"
     ]
    }
   ]
  },
  {
   "cell_type": "markdown",
   "source": [
    "**Adding revies to reviews table**"
   ],
   "metadata": {
    "id": "jJbWIdp-eJtQ"
   }
  },
  {
   "cell_type": "code",
   "source": [
    "import pandas as pd\n",
    "import mysql.connector\n",
    "\n",
    "# Load the CSV file into a pandas DataFrame\n",
    "df = pd.read_csv('/content/Apple_products.csv')\n",
    "print(\"csv read success\")\n",
    "# Connect to the MySQL database\n",
    "host = \"MYSQL8001.site4now.net\"\n",
    "database = \"db_aaacae_dse\"\n",
    "user = \"aaacae_dse\"\n",
    "password = \"\"\n",
    "\n",
    "# Establish the connection\n",
    "cnx = mysql.connector.connect(\n",
    "    host=host,\n",
    "    user=user,\n",
    "    password=password,\n",
    "    database=database\n",
    ")\n",
    "cursor = cnx.cursor()\n",
    "print(\"con success\")\n",
    "# Create the table if it doesn't exist\n",
    "cursor.execute(\"\"\"\n",
    "    CREATE TABLE IF NOT EXISTS reviews (\n",
    "        review_id INT AUTO_INCREMENT PRIMARY KEY,\n",
    "        rating FLOAT,\n",
    "        text TEXT,\n",
    "        parent_asin VARCHAR(20),\n",
    "        user_id VARCHAR(50),\n",
    "        timestamp BIGINT,\n",
    "        is_predicted BOOLEAN,\n",
    "        is_positive BOOLEAN,\n",
    "        pos_score FLOAT,\n",
    "        neu_score FLOAT,\n",
    "        neg_score FLOAT,\n",
    "        keywords TEXT\n",
    "    )\n",
    "\"\"\")\n",
    "print(\"query success\")\n",
    "# Insert data into the MySQL table\n",
    "for _, row in df.iterrows():\n",
    "    rating = row['rating']\n",
    "    text = row['text']\n",
    "    parent_asin = row['parent_asin']\n",
    "    user_id = row['user_id']\n",
    "    timestamp = row['timestamp']\n",
    "\n",
    "    query = \"\"\"\n",
    "        INSERT INTO reviews (rating, text, parent_asin, user_id, timestamp, is_predicted, is_positive, pos_score, neu_score, neg_score, keywords)\n",
    "        VALUES (%s, %s, %s, %s, %s, %s, %s, %s, %s, %s, %s)\n",
    "    \"\"\"\n",
    "    values = (rating, text, parent_asin, user_id, timestamp, None, None, None, None, None, None)\n",
    "\n",
    "    cursor.execute(query, values)\n",
    "\n",
    "# Commit the transaction\n",
    "cnx.commit()\n",
    "\n",
    "# Close the cursor and connection\n",
    "cursor.close()\n",
    "cnx.close()\n"
   ],
   "metadata": {
    "colab": {
     "base_uri": "https://localhost:8080/"
    },
    "id": "8UnueiLlxGfq",
    "outputId": "dd66c8d7-d0d2-45f5-a913-b4774cf958d4"
   },
   "execution_count": null,
   "outputs": [
    {
     "output_type": "stream",
     "name": "stdout",
     "text": [
      "csv read success\n",
      "con success\n",
      "query success\n"
     ]
    }
   ]
  },
  {
   "cell_type": "code",
   "source": [
    "import pandas as pd\n",
    "csv_file = '/content/filtered_meta.csv'\n",
    "df = pd.read_csv(csv_file)\n",
    "df.iloc[0]"
   ],
   "metadata": {
    "colab": {
     "base_uri": "https://localhost:8080/"
    },
    "id": "Rcg7HuOoPD4p",
    "outputId": "73133304-9e02-4c98-d62a-773f9c2de45a"
   },
   "execution_count": 5,
   "outputs": [
    {
     "output_type": "execute_result",
     "data": {
      "text/plain": [
       "main_category                              Cell Phones & Accessories\n",
       "title              Apple iPhone 12 Pro, 256GB, Gold - Unlocked (R...\n",
       "average_rating                                                   4.2\n",
       "rating_number                                                     47\n",
       "features           ['Unlocked and compatible with any carrier of ...\n",
       "description        ['Apple iPhone 12 Pro, 256GB, Gold - Unlocked ...\n",
       "price                                                         678.39\n",
       "images             [{'thumb': 'https://m.media-amazon.com/images/...\n",
       "videos             [{'title': 'Iphone 12 pro Max...why? Watch bef...\n",
       "store                                                 Amazon Renewed\n",
       "categories              ['Cell Phones & Accessories', 'Cell Phones']\n",
       "details            {'Product Dimensions': '0.28 x 2.8 x 5.75 inch...\n",
       "parent_asin                                               B09JFJ1Q5C\n",
       "bought_together                                                  NaN\n",
       "Name: 0, dtype: object"
      ]
     },
     "metadata": {},
     "execution_count": 5
    }
   ]
  },
  {
   "cell_type": "code",
   "source": [
    "print(json.loads(df.iloc[0]['images'].replace(\"'\", '\"'))[1]['large'])"
   ],
   "metadata": {
    "colab": {
     "base_uri": "https://localhost:8080/"
    },
    "id": "YJDk5W8uRJVB",
    "outputId": "ea9bfa33-2251-4635-e582-c53d250ae6e2"
   },
   "execution_count": 2,
   "outputs": [
    {
     "output_type": "stream",
     "name": "stdout",
     "text": [
      "https://m.media-amazon.com/images/I/31dNlnUnu7L._AC_.jpg\n"
     ]
    }
   ]
  },
  {
   "cell_type": "code",
   "source": [
    "df.iloc[0][\"features\"]"
   ],
   "metadata": {
    "colab": {
     "base_uri": "https://localhost:8080/",
     "height": 122
    },
    "id": "VVJOlosqnr62",
    "outputId": "bc028b9c-0402-4f02-dad4-7a0d1d76e78b"
   },
   "execution_count": 26,
   "outputs": [
    {
     "output_type": "execute_result",
     "data": {
      "text/plain": [
       "'[\\'Unlocked and compatible with any carrier of choice on GSM and CDMA networks (e.g. AT&T, T-Mobile, Sprint, Verizon, US Cellular, Cricket, Metro, Tracfone, Mint Mobile, etc.).\\', \\'Tested for battery health and guaranteed to come with a battery that exceeds 90% of original capacity.\\', \"Inspected and guaranteed to have minimal cosmetic damage, which is not noticeable when the device is held at arm\\'s length. Successfully passed a full diagnostic test which ensures like-new functionality and removal of any prior-user personal information.\", \\'Includes a brand new, generic charging cable that is certified Mfi (Made for iPhone) and a brand new, generic wall plug that is UL certified for performance and safety. Also includes a SIM tray removal tool but does not come with headphones or a SIM card.\\', \\'Backed by a one-year satisfaction guarantee.\\']'"
      ],
      "application/vnd.google.colaboratory.intrinsic+json": {
       "type": "string"
      }
     },
     "metadata": {},
     "execution_count": 26
    }
   ]
  },
  {
   "cell_type": "code",
   "source": [
    "df.iloc[0][\"categories\"]"
   ],
   "metadata": {
    "colab": {
     "base_uri": "https://localhost:8080/",
     "height": 36
    },
    "id": "HByCVUC_ZhRj",
    "outputId": "6b5e4813-db65-4ac6-c48c-1c48ec990dd3"
   },
   "execution_count": 28,
   "outputs": [
    {
     "output_type": "execute_result",
     "data": {
      "text/plain": [
       "\"['Cell Phones & Accessories', 'Cell Phones']\""
      ],
      "application/vnd.google.colaboratory.intrinsic+json": {
       "type": "string"
      }
     },
     "metadata": {},
     "execution_count": 28
    }
   ]
  },
  {
   "cell_type": "code",
   "source": [
    "df.iloc[0][\"categories\"][1:len(df.iloc[0][\"categories\"])-1]"
   ],
   "metadata": {
    "colab": {
     "base_uri": "https://localhost:8080/",
     "height": 36
    },
    "id": "56-J6nBgY7xG",
    "outputId": "8adaa752-4bd8-48c5-e4ca-c8d33404c42b"
   },
   "execution_count": 29,
   "outputs": [
    {
     "output_type": "execute_result",
     "data": {
      "text/plain": [
       "\"'Cell Phones & Accessories', 'Cell Phones'\""
      ],
      "application/vnd.google.colaboratory.intrinsic+json": {
       "type": "string"
      }
     },
     "metadata": {},
     "execution_count": 29
    }
   ]
  },
  {
   "cell_type": "code",
   "source": [
    "import pandas as pd\n",
    "\n",
    "# Read the CSV file into a pandas DataFrame\n",
    "filtered_meta = pd.read_csv('filtered_meta.csv')\n",
    "\n",
    "# Filter out records with parent_asin equal to 'B07759SBP7'\n",
    "filtered_df = filtered_meta[filtered_meta['parent_asin'] == 'B07759SBP7']\n",
    "\n",
    "# Display the first few records of the 'images' column\n",
    "print(filtered_df[\"images\"].head())\n",
    "\n",
    "# Write the values of the 'images' column to a text file\n",
    "with open('images_column.txt', 'w') as f:\n",
    "    for image in filtered_df['images']:\n",
    "        f.write(f\"{image}\\n\")\n"
   ],
   "metadata": {
    "colab": {
     "base_uri": "https://localhost:8080/"
    },
    "id": "BMYfp3C8DmD9",
    "outputId": "befeb4e9-cc7b-4b4b-fa35-b3618d1e4ecc"
   },
   "execution_count": null,
   "outputs": [
    {
     "output_type": "stream",
     "name": "stdout",
     "text": [
      "25    [{'thumb': 'https://m.media-amazon.com/images/...\n",
      "Name: images, dtype: object\n"
     ]
    }
   ]
  },
  {
   "cell_type": "code",
   "source": [
    "import pandas as pd\n",
    "\n",
    "# Read the CSV file into a pandas DataFrame\n",
    "filtered_meta = pd.read_csv('filtered_meta.csv')\n",
    "\n",
    "# Find the count of null values in the 'images' column\n",
    "null_count_images = filtered_meta['features'].isnull().sum()\n",
    "\n",
    "print(f\"Count of null values in the 'images' column: {null_count_images}\")\n"
   ],
   "metadata": {
    "colab": {
     "base_uri": "https://localhost:8080/"
    },
    "id": "D5alg27KJRgS",
    "outputId": "c4e9d91a-a77e-4634-f713-32387354ff2b"
   },
   "execution_count": null,
   "outputs": [
    {
     "output_type": "stream",
     "name": "stdout",
     "text": [
      "Count of null values in the 'images' column: 0\n"
     ]
    }
   ]
  },
  {
   "cell_type": "code",
   "source": [
    "import pandas as pd\n",
    "import json\n",
    "csv_file = '/content/filtered_meta.csv'\n",
    "df = pd.read_csv(csv_file)\n",
    "for index, row in df.iterrows():\n",
    "  try:\n",
    "    print(json.loads(row['images'].replace(\"'\", '\"'))[0]['large'],\" \", row[\"parent_asin\"])\n",
    "  except Exception as e:\n",
    "    print(e,\" \", row[\"parent_asin\"])"
   ],
   "metadata": {
    "colab": {
     "base_uri": "https://localhost:8080/"
    },
    "id": "1oMR_V48e8oa",
    "outputId": "aa43a46e-8e41-48b6-c80b-a41e0a9a838d"
   },
   "execution_count": 16,
   "outputs": [
    {
     "output_type": "stream",
     "name": "stdout",
     "text": [
      "https://m.media-amazon.com/images/I/3151WyO-4BL._AC_.jpg   B09JFJ1Q5C\n",
      "Expecting value: line 1 column 178 (char 177)   B08TDT5ZJD\n",
      "Expecting value: line 1 column 178 (char 177)   B082MTXNT1\n",
      "https://m.media-amazon.com/images/I/41AMINJhsJL._AC_.jpg   B00NPY1G56\n",
      "https://m.media-amazon.com/images/I/311QJu8o9pL._AC_.jpg   B0B5FLX9WS\n",
      "https://m.media-amazon.com/images/I/410Z5VyKpQL._AC_.jpg   B079H6CWYH\n",
      "https://m.media-amazon.com/images/I/31WW+Zc1lHL._AC_.jpg   B09JFC967X\n",
      "https://m.media-amazon.com/images/I/31dS8x2a2eL._AC_.jpg   B09JFP3R1D\n",
      "https://m.media-amazon.com/images/I/31PHrwjCbRL._AC_.jpg   B09JF5ZHQS\n",
      "https://m.media-amazon.com/images/I/41XT7AOBxrL._AC_.jpg   B085SYG5ZX\n",
      "https://m.media-amazon.com/images/I/41MMGCLHslL._AC_.jpg   B075NVNBCW\n",
      "Expecting value: line 1 column 178 (char 177)   B00NQHZ2RU\n",
      "https://m.media-amazon.com/images/I/31FBVtATqHL._AC_.jpg   B074K4HVGB\n",
      "Expecting value: line 1 column 178 (char 177)   B08TDV7WF7\n",
      "https://m.media-amazon.com/images/I/41cVv-L8yOL._AC_.jpg   B00NQGOZCY\n",
      "https://m.media-amazon.com/images/I/31seJiEMoXL._AC_.jpg   B09JFN8K6T\n",
      "Expecting value: line 1 column 178 (char 177)   B07B9LFNM9\n",
      "https://m.media-amazon.com/images/I/31WW+Zc1lHL._AC_.jpg   B09JFMBNPH\n",
      "https://m.media-amazon.com/images/I/41AjIStaq3L._AC_.jpg   B081TJLF3H\n",
      "https://m.media-amazon.com/images/I/41CZVYqs+hL._AC_.jpg   B078P38R8L\n",
      "https://m.media-amazon.com/images/I/4157P8GEsoL._AC_.jpg   B07B9LWLR7\n",
      "Expecting value: line 1 column 175 (char 174)   B00NGOCER4\n",
      "https://m.media-amazon.com/images/I/31zswA-LKDL._AC_.jpg   B09JFS4P67\n",
      "https://m.media-amazon.com/images/I/31aOgohXPtL._AC_.jpg   B071HWTHBJ\n",
      "https://m.media-amazon.com/images/I/41B2n77mkAL._AC_.jpg   B07JCXLZPZ\n",
      "Expecting value: line 1 column 666 (char 665)   B07759SBP7\n",
      "Expecting value: line 1 column 178 (char 177)   B08TDTFD8B\n",
      "Expecting value: line 1 column 178 (char 177)   B00NI0BPTE\n",
      "https://m.media-amazon.com/images/I/41vzLcN+zvL._AC_.jpg   B004YRBM1Q\n",
      "https://m.media-amazon.com/images/I/31vv0vfaNqL._AC_.jpg   B09JF3PVM2\n",
      "https://m.media-amazon.com/images/I/31seJiEMoXL._AC_.jpg   B09JFC8JGG\n",
      "https://m.media-amazon.com/images/I/41qgEtK8sEL._AC_.jpg   B081MCRQG3\n",
      "Expecting value: line 1 column 422 (char 421)   B07CQNF813\n",
      "https://m.media-amazon.com/images/I/517xB8vSCML._AC_.jpg   B07234GKN5\n",
      "https://m.media-amazon.com/images/I/41vzLcN+zvL._AC_.jpg   B005XYGFIY\n",
      "https://m.media-amazon.com/images/I/51p2G1+zreL._AC_.jpg   B072KFCKYH\n",
      "Expecting value: line 1 column 178 (char 177)   B08TFHC17C\n",
      "https://m.media-amazon.com/images/I/41MzJyjyrzL._AC_.jpg   B085PXWRCN\n",
      "https://m.media-amazon.com/images/I/41sh7abPtEL._AC_.jpg   B085T12N5L\n",
      "https://m.media-amazon.com/images/I/517wmQfy0aL._AC_.jpg   B07GXZW3HX\n",
      "https://m.media-amazon.com/images/I/41O7zxjqJ7L._AC_.jpg   B082MRWDKN\n",
      "https://m.media-amazon.com/images/I/41TFh8QjaTL._AC_.jpg   B09JFNJ82P\n",
      "https://m.media-amazon.com/images/I/41rYq2aMJ0L._AC_.jpg   B01MT5GDD6\n",
      "https://m.media-amazon.com/images/I/518F44bwjOL._AC_.jpg   B074F4HMSY\n",
      "https://m.media-amazon.com/images/I/517idDiRJRL._AC_.jpg   B07JQSLZXZ\n",
      "https://m.media-amazon.com/images/I/41ssJuJSoDL._AC_.jpg   B0776JGWP9\n"
     ]
    }
   ]
  },
  {
   "cell_type": "markdown",
   "source": [
    "**Adding products info**"
   ],
   "metadata": {
    "id": "6q6dXCVqeTDP"
   }
  },
  {
   "cell_type": "code",
   "source": [
    "import pandas as pd\n",
    "import mysql.connector\n",
    "import json\n",
    "\n",
    "# MySQL connection configuration\n",
    "host = \"MYSQL8001.site4now.net\"\n",
    "database = \"db_aaacae_dse\"\n",
    "user = \"aaacae_dse\"\n",
    "password = \"\"\n",
    "\n",
    "# CSV file path\n",
    "csv_file = '/content/filtered_meta.csv'\n",
    "\n",
    "try:\n",
    "    conn = mysql.connector.connect(\n",
    "        host=host,\n",
    "        user=user,\n",
    "        password=password,\n",
    "        database=database\n",
    "    )\n",
    "    cursor = conn.cursor()\n",
    "\n",
    "    # Create table if not exists\n",
    "    create_table_query = \"\"\"\n",
    "    CREATE TABLE IF NOT EXISTS products (\n",
    "        parent_asin VARCHAR(255) PRIMARY KEY,\n",
    "        main_category VARCHAR(255),\n",
    "        title TEXT,\n",
    "        description TEXT,\n",
    "        features TEXT,\n",
    "        image VARCHAR(255),\n",
    "        categories TEXT,\n",
    "        store VARCHAR(255),\n",
    "        details TEXT,\n",
    "        negative_keywords TEXT,\n",
    "        improvements TEXT\n",
    "    )\n",
    "    \"\"\"\n",
    "    cursor.execute(create_table_query)\n",
    "\n",
    "    # Read CSV file into pandas DataFrame\n",
    "    df = pd.read_csv(csv_file)\n",
    "\n",
    "\n",
    "    for index, row in df.iterrows():\n",
    "\n",
    "\n",
    "        desc = None if len(row[\"description\"]) < 3 else row[\"description\"][2:len(row[\"description\"])-2]\n",
    "        feat = None if len(row[\"features\"]) < 3 else row[\"features\"][1:len(row[\"features\"])-1]\n",
    "\n",
    "\n",
    "        try:\n",
    "            large_image_url = json.loads(row['images'].replace(\"'\", '\"'))[0]['large']\n",
    "        except Exception as e:\n",
    "            large_image_url = \"\"\n",
    "\n",
    "        row = row.where(pd.notnull(row), None)\n",
    "\n",
    "        insert_query = \"\"\"\n",
    "        INSERT INTO products (parent_asin, main_category, title, description, features, image, categories, store, details)\n",
    "        VALUES (%s, %s, %s, %s, %s, %s, %s, %s, %s)\n",
    "        \"\"\"\n",
    "        data = (\n",
    "            row['parent_asin'],\n",
    "            row['main_category'],\n",
    "            row['title'],\n",
    "            desc,\n",
    "            feat,\n",
    "            large_image_url,\n",
    "            row['categories'],\n",
    "            row['store'],\n",
    "            row['details']\n",
    "        )\n",
    "        cursor.execute(insert_query, data)\n",
    "\n",
    "    # Commit changes and close connection\n",
    "    conn.commit()\n",
    "    print(\"Data inserted successfully into MySQL table\")\n",
    "\n",
    "except mysql.connector.Error as error:\n",
    "    print(f\"Error inserting data into MySQL table: {error}\")\n",
    "\n",
    "finally:\n",
    "    if 'conn' in locals() and conn.is_connected():\n",
    "        cursor.close()\n",
    "        conn.close()\n",
    "        print(\"MySQL connection is closed\")\n"
   ],
   "metadata": {
    "colab": {
     "base_uri": "https://localhost:8080/"
    },
    "id": "qJyhGQZzEaVn",
    "outputId": "ee23b2e2-5576-4c66-c929-b73f714e4fbf"
   },
   "execution_count": 21,
   "outputs": [
    {
     "output_type": "stream",
     "name": "stdout",
     "text": [
      "Data inserted successfully into MySQL table\n",
      "MySQL connection is closed\n"
     ]
    }
   ]
  }
 ]
}

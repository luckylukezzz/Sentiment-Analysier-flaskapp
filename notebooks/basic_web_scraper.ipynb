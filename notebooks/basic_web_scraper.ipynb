{
  "nbformat": 4,
  "nbformat_minor": 0,
  "metadata": {
    "colab": {
      "provenance": []
    },
    "kernelspec": {
      "name": "python3",
      "display_name": "Python 3"
    },
    "language_info": {
      "name": "python"
    }
  },
  "cells": [
    {
      "cell_type": "code",
      "source": [
        "!pip install beautifulsoup4 lxml\n"
      ],
      "metadata": {
        "colab": {
          "base_uri": "https://localhost:8080/"
        },
        "id": "9aI7-0gkBuEu",
        "outputId": "f9894fd6-3c35-4abe-84a8-ad02938e65c7"
      },
      "execution_count": 3,
      "outputs": [
        {
          "output_type": "stream",
          "name": "stdout",
          "text": [
            "Requirement already satisfied: beautifulsoup4 in /usr/local/lib/python3.10/dist-packages (4.12.3)\n",
            "Requirement already satisfied: lxml in /usr/local/lib/python3.10/dist-packages (4.9.4)\n",
            "Requirement already satisfied: soupsieve>1.2 in /usr/local/lib/python3.10/dist-packages (from beautifulsoup4) (2.5)\n"
          ]
        }
      ]
    },
    {
      "cell_type": "markdown",
      "source": [
        "# getting headers from api"
      ],
      "metadata": {
        "id": "NML7uDDr1bDU"
      }
    },
    {
      "cell_type": "code",
      "source": [
        "import requests\n",
        "\n",
        "response = requests.get(\n",
        "  url='https://headers.scrapeops.io/v1/browser-headers',\n",
        "  params={\n",
        "      'api_key': 'ef359c6c-468c-4004-8869-da304cbb68dc',\n",
        "      'num_results': '1'}\n",
        ")\n",
        "\n",
        "scrape_headers = response.json()\n",
        "print(scrape_headers)"
      ],
      "metadata": {
        "colab": {
          "base_uri": "https://localhost:8080/"
        },
        "id": "HJ7vqOGYAaoh",
        "outputId": "8cad2729-869a-4ccc-ecad-7aa67555852f"
      },
      "execution_count": 11,
      "outputs": [
        {
          "output_type": "stream",
          "name": "stdout",
          "text": [
            "{'result': [{'upgrade-insecure-requests': '1', 'user-agent': 'Mozilla/5.0 (Windows NT 10.0; WOW64) AppleWebKit/537.36 (KHTML, like Gecko) Chrome/86.0.4240.111 Safari/537.36', 'accept': 'text/html,application/xhtml+xml,application/xml;q=0.9,*/*;q=0.8', 'sec-ch-ua': 'Google Chrome;v=\"86\", \"Chromium\";v=\"86\", \";Not A Brand\";v=\"99\"', 'sec-ch-ua-mobile': '?0', 'sec-ch-ua-platform': 'Windows', 'sec-fetch-site': 'none', 'sec-fetch-mod': '', 'sec-fetch-user': '?1', 'accept-encoding': 'gzip', 'accept-language': 'en-US,de;q=0.5'}]}\n"
          ]
        }
      ]
    },
    {
      "cell_type": "markdown",
      "source": [
        "# scraping proxies"
      ],
      "metadata": {
        "id": "5dywhDDF1kHf"
      }
    },
    {
      "cell_type": "code",
      "source": [
        "import requests\n",
        "from bs4 import BeautifulSoup\n",
        "import random\n",
        "\n",
        "# Retrieve and prepare the list of proxies\n",
        "proxies = []\n",
        "response = requests.get(\"http://sslproxies.org/\")\n",
        "soup = BeautifulSoup(response.content, 'html.parser')\n",
        "proxies_table = soup.find('table', class_='table table-striped table-bordered')\n",
        "for row in proxies_table.tbody.find_all('tr'):\n",
        "    proxies.append({\n",
        "        'ip': row.find_all('td')[0].string,\n",
        "        'port': row.find_all('td')[1].string\n",
        "    })\n",
        "\n",
        "# Create a list of proxy dictionaries\n",
        "proxies_lst = [{'http': 'http://' + proxy['ip'] + ':' + proxy['port']} for proxy in proxies]\n",
        "proxies_lst"
      ],
      "metadata": {
        "colab": {
          "base_uri": "https://localhost:8080/"
        },
        "id": "fyibvwJLAwYY",
        "outputId": "40f26dd2-3fd2-499e-ce6f-943140c8e3c0"
      },
      "execution_count": 7,
      "outputs": [
        {
          "output_type": "execute_result",
          "data": {
            "text/plain": [
              "[{'http': 'http://51.8.224.206:9000'},\n",
              " {'http': 'http://160.86.242.23:8080'},\n",
              " {'http': 'http://109.236.88.103:11131'},\n",
              " {'http': 'http://217.23.1.48:11582'},\n",
              " {'http': 'http://72.10.160.170:2657'},\n",
              " {'http': 'http://203.74.125.18:8888'},\n",
              " {'http': 'http://41.173.7.82:8080'},\n",
              " {'http': 'http://209.38.196.178:8081'},\n",
              " {'http': 'http://13.91.243.29:3128'},\n",
              " {'http': 'http://72.10.160.173:5643'},\n",
              " {'http': 'http://172.183.241.1:8080'},\n",
              " {'http': 'http://34.143.221.240:8103'},\n",
              " {'http': 'http://67.43.227.227:11023'},\n",
              " {'http': 'http://93.190.141.141:11066'},\n",
              " {'http': 'http://89.38.96.50:13591'},\n",
              " {'http': 'http://47.251.70.179:80'},\n",
              " {'http': 'http://67.43.236.20:10145'},\n",
              " {'http': 'http://43.132.124.11:3128'},\n",
              " {'http': 'http://35.185.196.38:3128'},\n",
              " {'http': 'http://47.88.31.196:8080'},\n",
              " {'http': 'http://38.91.101.96:8850'},\n",
              " {'http': 'http://195.62.32.117:22331'},\n",
              " {'http': 'http://62.112.9.224:11145'},\n",
              " {'http': 'http://200.174.198.86:8888'},\n",
              " {'http': 'http://93.190.138.45:12273'},\n",
              " {'http': 'http://114.129.2.82:8081'},\n",
              " {'http': 'http://5.189.184.6:80'},\n",
              " {'http': 'http://223.135.156.183:8080'},\n",
              " {'http': 'http://67.43.227.229:16401'},\n",
              " {'http': 'http://95.164.113.232:443'},\n",
              " {'http': 'http://89.39.107.100:12844'},\n",
              " {'http': 'http://52.82.123.144:3128'},\n",
              " {'http': 'http://178.132.2.28:11197'},\n",
              " {'http': 'http://72.10.160.92:5635'},\n",
              " {'http': 'http://103.237.144.232:1311'},\n",
              " {'http': 'http://20.235.159.154:80'},\n",
              " {'http': 'http://209.121.164.50:31147'},\n",
              " {'http': 'http://67.43.228.252:10579'},\n",
              " {'http': 'http://109.236.94.75:11481'},\n",
              " {'http': 'http://67.43.228.251:3343'},\n",
              " {'http': 'http://109.123.80.30:9480'},\n",
              " {'http': 'http://72.10.160.90:1365'},\n",
              " {'http': 'http://217.23.15.50:11778'},\n",
              " {'http': 'http://171.244.60.55:8080'},\n",
              " {'http': 'http://203.189.88.156:80'},\n",
              " {'http': 'http://93.190.142.42:12592'},\n",
              " {'http': 'http://4.155.2.13:9480'},\n",
              " {'http': 'http://103.154.145.204:8081'},\n",
              " {'http': 'http://189.240.60.168:9090'},\n",
              " {'http': 'http://47.243.166.133:18080'},\n",
              " {'http': 'http://154.236.177.100:1976'},\n",
              " {'http': 'http://189.240.60.164:9090'},\n",
              " {'http': 'http://20.44.188.17:3129'},\n",
              " {'http': 'http://5.196.111.29:20233'},\n",
              " {'http': 'http://20.232.120.176:80'},\n",
              " {'http': 'http://185.227.134.152:2456'},\n",
              " {'http': 'http://15.237.115.34:3128'},\n",
              " {'http': 'http://179.228.17.8:8080'},\n",
              " {'http': 'http://109.236.93.35:12052'},\n",
              " {'http': 'http://43.129.219.153:1111'},\n",
              " {'http': 'http://91.232.105.105:11495'},\n",
              " {'http': 'http://67.43.227.230:4961'},\n",
              " {'http': 'http://200.119.44.50:8181'},\n",
              " {'http': 'http://89.38.97.93:11264'},\n",
              " {'http': 'http://69.197.190.94:60088'},\n",
              " {'http': 'http://119.235.114.242:3128'},\n",
              " {'http': 'http://66.31.130.117:8080'},\n",
              " {'http': 'http://194.5.25.34:443'},\n",
              " {'http': 'http://38.60.254.172:3128'},\n",
              " {'http': 'http://47.236.133.119:80'},\n",
              " {'http': 'http://45.150.223.132:3128'},\n",
              " {'http': 'http://93.190.140.167:11459'},\n",
              " {'http': 'http://123.30.154.38:2008'},\n",
              " {'http': 'http://93.190.139.245:11243'},\n",
              " {'http': 'http://93.190.143.87:11145'},\n",
              " {'http': 'http://203.109.4.187:18092'},\n",
              " {'http': 'http://175.110.113.229:11151'},\n",
              " {'http': 'http://185.100.232.163:12756'},\n",
              " {'http': 'http://91.229.23.129:11778'},\n",
              " {'http': 'http://47.236.243.34:80'},\n",
              " {'http': 'http://89.39.105.228:11267'},\n",
              " {'http': 'http://20.44.189.184:3129'},\n",
              " {'http': 'http://91.229.23.180:11145'},\n",
              " {'http': 'http://20.204.214.23:3129'},\n",
              " {'http': 'http://188.121.128.246:10186'},\n",
              " {'http': 'http://52.53.220.231:80'},\n",
              " {'http': 'http://20.204.212.45:3129'},\n",
              " {'http': 'http://212.110.188.202:34409'},\n",
              " {'http': 'http://94.101.185.188:13699'},\n",
              " {'http': 'http://93.190.139.246:11433'},\n",
              " {'http': 'http://66.188.181.143:8080'},\n",
              " {'http': 'http://208.87.130.154:80'},\n",
              " {'http': 'http://154.0.14.116:3128'},\n",
              " {'http': 'http://103.171.244.64:8088'},\n",
              " {'http': 'http://109.236.91.40:11459'},\n",
              " {'http': 'http://178.132.3.56:12468'},\n",
              " {'http': 'http://89.38.98.53:12469'},\n",
              " {'http': 'http://93.190.141.204:11136'},\n",
              " {'http': 'http://3.6.60.173:80'},\n",
              " {'http': 'http://124.6.155.170:3131'}]"
            ]
          },
          "metadata": {},
          "execution_count": 7
        }
      ]
    },
    {
      "cell_type": "markdown",
      "source": [
        "# sending request to amazon reviews page with given asin"
      ],
      "metadata": {
        "id": "DF-AiCXd1vc7"
      }
    },
    {
      "cell_type": "code",
      "source": [
        "\n",
        "proxy = random.choice(proxies_lst)\n",
        "\n",
        "url =\"http://www.amazon.com/dp/product-reviews/B00NLZUM36?pageNumber=1\"\n",
        "response = requests.get(url, headers=scrape_headers[\"result\"][0] , proxies= {'http': 'http://124.6.155.170:3131'} )\n",
        "\n",
        "\n",
        "print(response.status_code)\n",
        "print(response.text)"
      ],
      "metadata": {
        "colab": {
          "base_uri": "https://localhost:8080/"
        },
        "id": "5LvP8ExmCxXU",
        "outputId": "cf82f53a-37dd-4c1d-fe42-f573ea730b53"
      },
      "execution_count": 37,
      "outputs": [
        {
          "output_type": "stream",
          "name": "stdout",
          "text": [
            "200\n",
            "<!DOCTYPE html>\n",
            "<!--[if lt IE 7]> <html lang=\"en-us\" class=\"a-no-js a-lt-ie9 a-lt-ie8 a-lt-ie7\"> <![endif]-->\n",
            "<!--[if IE 7]>    <html lang=\"en-us\" class=\"a-no-js a-lt-ie9 a-lt-ie8\"> <![endif]-->\n",
            "<!--[if IE 8]>    <html lang=\"en-us\" class=\"a-no-js a-lt-ie9\"> <![endif]-->\n",
            "<!--[if gt IE 8]><!-->\n",
            "<html class=\"a-no-js\" lang=\"en-us\"><!--<![endif]--><head>\n",
            "<meta http-equiv=\"content-type\" content=\"text/html; charset=UTF-8\">\n",
            "<meta charset=\"utf-8\">\n",
            "<meta http-equiv=\"X-UA-Compatible\" content=\"IE=edge,chrome=1\">\n",
            "<title dir=\"ltr\">Amazon.com</title>\n",
            "<meta name=\"viewport\" content=\"width=device-width\">\n",
            "<link rel=\"stylesheet\" href=\"https://images-na.ssl-images-amazon.com/images/G/01/AUIClients/AmazonUI-3c913031596ca78a3768f4e934b1cc02ce238101.secure.min._V1_.css\">\n",
            "<script>\n",
            "\n",
            "if (true === true) {\n",
            "    var ue_t0 = (+ new Date()),\n",
            "        ue_csm = window,\n",
            "        ue = { t0: ue_t0, d: function() { return (+new Date() - ue_t0); } },\n",
            "        ue_furl = \"fls-na.amazon.com\",\n",
            "        ue_mid = \"ATVPDKIKX0DER\",\n",
            "        ue_sid = (document.cookie.match(/session-id=([0-9-]+)/) || [])[1],\n",
            "        ue_sn = \"opfcaptcha.amazon.com\",\n",
            "        ue_id = 'M9VRXH50B87HTA5YWG6F';\n",
            "}\n",
            "</script>\n",
            "</head>\n",
            "<body>\n",
            "\n",
            "<!--\n",
            "        To discuss automated access to Amazon data please contact api-services-support@amazon.com.\n",
            "        For information about migrating to our APIs refer to our Marketplace APIs at https://developer.amazonservices.com/ref=rm_c_sv, or our Product Advertising API at https://affiliate-program.amazon.com/gp/advertising/api/detail/main.html/ref=rm_c_ac for advertising use cases.\n",
            "-->\n",
            "\n",
            "<!--\n",
            "Correios.DoNotSend\n",
            "-->\n",
            "\n",
            "<div class=\"a-container a-padding-double-large\" style=\"min-width:350px;padding:44px 0 !important\">\n",
            "\n",
            "    <div class=\"a-row a-spacing-double-large\" style=\"width: 350px; margin: 0 auto\">\n",
            "\n",
            "        <div class=\"a-row a-spacing-medium a-text-center\"><i class=\"a-icon a-logo\"></i></div>\n",
            "\n",
            "        <div class=\"a-box a-alert a-alert-info a-spacing-base\">\n",
            "            <div class=\"a-box-inner\">\n",
            "                <i class=\"a-icon a-icon-alert\"></i>\n",
            "                <h4>Enter the characters you see below</h4>\n",
            "                <p class=\"a-last\">Sorry, we just need to make sure you're not a robot. For best results, please make sure your browser is accepting cookies.</p>\n",
            "                </div>\n",
            "            </div>\n",
            "\n",
            "            <div class=\"a-section\">\n",
            "\n",
            "                <div class=\"a-box a-color-offset-background\">\n",
            "                    <div class=\"a-box-inner a-padding-extra-large\">\n",
            "\n",
            "                        <form method=\"get\" action=\"/errors/validateCaptcha\" name=\"\">\n",
            "                            <input type=hidden name=\"amzn\" value=\"9hg2Neq7ZKmHUjSGLeobiA==\" /><input type=hidden name=\"amzn-r\" value=\"&#047;dp&#047;product&#045;reviews&#047;B00NLZUM36?pageNumber&#061;1\" />\n",
            "                            <div class=\"a-row a-spacing-large\">\n",
            "                                <div class=\"a-box\">\n",
            "                                    <div class=\"a-box-inner\">\n",
            "                                        <h4>Type the characters you see in this image:</h4>\n",
            "                                        <div class=\"a-row a-text-center\">\n",
            "                                            <img src=\"https://images-na.ssl-images-amazon.com/captcha/nzwwotmg/Captcha_xrzjdlpplm.jpg\">\n",
            "                                        </div>\n",
            "                                        <div class=\"a-row a-spacing-base\">\n",
            "                                            <div class=\"a-row\">\n",
            "                                                <div class=\"a-column a-span6\">\n",
            "                                                </div>\n",
            "                                                <div class=\"a-column a-span6 a-span-last a-text-right\">\n",
            "                                                    <a onclick=\"window.location.reload()\">Try different image</a>\n",
            "                                                </div>\n",
            "                                            </div>\n",
            "                                            <input autocomplete=\"off\" spellcheck=\"false\" placeholder=\"Type characters\" id=\"captchacharacters\" name=\"field-keywords\" class=\"a-span12\" autocapitalize=\"off\" autocorrect=\"off\" type=\"text\">\n",
            "                                        </div>\n",
            "                                    </div>\n",
            "                                </div>\n",
            "                            </div>\n",
            "\n",
            "                            <div class=\"a-section a-spacing-extra-large\">\n",
            "\n",
            "                                <div class=\"a-row\">\n",
            "                                    <span class=\"a-button a-button-primary a-span12\">\n",
            "                                        <span class=\"a-button-inner\">\n",
            "                                            <button type=\"submit\" class=\"a-button-text\">Continue shopping</button>\n",
            "                                        </span>\n",
            "                                    </span>\n",
            "                                </div>\n",
            "\n",
            "                            </div>\n",
            "                        </form>\n",
            "\n",
            "                    </div>\n",
            "                </div>\n",
            "\n",
            "            </div>\n",
            "\n",
            "        </div>\n",
            "\n",
            "        <div class=\"a-divider a-divider-section\"><div class=\"a-divider-inner\"></div></div>\n",
            "\n",
            "        <div class=\"a-text-center a-spacing-small a-size-mini\">\n",
            "            <a href=\"https://www.amazon.com/gp/help/customer/display.html/ref=footer_cou?ie=UTF8&nodeId=508088\">Conditions of Use</a>\n",
            "            <span class=\"a-letter-space\"></span>\n",
            "            <span class=\"a-letter-space\"></span>\n",
            "            <span class=\"a-letter-space\"></span>\n",
            "            <span class=\"a-letter-space\"></span>\n",
            "            <a href=\"https://www.amazon.com/gp/help/customer/display.html/ref=footer_privacy?ie=UTF8&nodeId=468496\">Privacy Policy</a>\n",
            "        </div>\n",
            "        <div class=\"a-text-center a-size-mini a-color-secondary\">\n",
            "          &copy; 1996-2014, Amazon.com, Inc. or its affiliates\n",
            "          <script>\n",
            "           if (true === true) {\n",
            "             document.write('<img src=\"https://fls-na.amaz'+'on.com/'+'1/oc-csi/1/OP/requestId=M9VRXH50B87HTA5YWG6F&js=1\" />');\n",
            "           };\n",
            "          </script>\n",
            "          <noscript>\n",
            "            <img src=\"https://fls-na.amazon.com/1/oc-csi/1/OP/requestId=M9VRXH50B87HTA5YWG6F&js=0\" />\n",
            "          </noscript>\n",
            "        </div>\n",
            "    </div>\n",
            "    <script>\n",
            "    if (true === true) {\n",
            "        var head = document.getElementsByTagName('head')[0],\n",
            "            prefix = \"https://images-na.ssl-images-amazon.com/images/G/01/csminstrumentation/\",\n",
            "            elem = document.createElement(\"script\");\n",
            "        elem.src = prefix + \"csm-captcha-instrumentation.min.js\";\n",
            "        head.appendChild(elem);\n",
            "\n",
            "        elem = document.createElement(\"script\");\n",
            "        elem.src = prefix + \"rd-script-6d68177fa6061598e9509dc4b5bdd08d.js\";\n",
            "        head.appendChild(elem);\n",
            "    }\n",
            "    </script>\n",
            "</body></html>\n",
            "\n"
          ]
        }
      ]
    },
    {
      "cell_type": "markdown",
      "source": [
        "<div id=\"R12XNEBW03HUSW-review-card\" class=\"a-row a-spacing-none\">"
      ],
      "metadata": {
        "id": "eSdIWccLMVBl"
      }
    },
    {
      "cell_type": "markdown",
      "source": [
        "# these are the required html parts"
      ],
      "metadata": {
        "id": "qXxC-Quu2FJX"
      }
    },
    {
      "cell_type": "code",
      "source": [
        "<div id=\"R12XNEBW03HUSW-review-card\" class=\"a-row a-spacing-none\">  #full container of a review\n",
        "\n",
        "\n",
        "#inside this anchor tag theres the rating and the title of review\n",
        "<a data-hook=\"review-title\" class=\"a-size-base a-link-normal review-title a-color-base review-title-content a-text-bold\" href=\"/gp/customer-reviews/R12XNEBW03HUSW/ref=cm_cr_arp_d_rvw_ttl?ie=UTF8&amp;ASIN=B00NLZUM36\">\n",
        "  <span class=\"a-icon-alt\">5.0 out of 5 stars</span>\n",
        "  <span> title <span>\n",
        "\n",
        "#timestamp\n",
        "<span data-hook=\"review-date\" class=\"a-size-base a-color-secondary review-date\">Reviewed in the United States on May 3, 2024</span>\n",
        "\n",
        "#body\n",
        "<span data-hook=\"review-body\" class=\"a-size-base review-text review-text-content\">\n",
        "\n",
        "\n",
        "#extract the userid\n",
        "<a href=\"/gp/profile/amzn1.account.AHB6YA2LPFRHGKKLX4ZY4OY6FGFQ/ref=cm_cr_arp_d_gw_btm?ie=UTF8\" class=\"a-profile\" data-a-size=\"small\">  methnin userid gnna"
      ],
      "metadata": {
        "id": "ITLiDVVRjIJt"
      },
      "execution_count": null,
      "outputs": []
    },
    {
      "cell_type": "markdown",
      "source": [
        "# generating the csv for reviews"
      ],
      "metadata": {
        "id": "uQgi8vqG2pzh"
      }
    },
    {
      "cell_type": "code",
      "source": [
        "import requests\n",
        "import csv\n",
        "from bs4 import BeautifulSoup\n",
        "from datetime import datetime\n",
        "\n",
        "\n",
        "soup = BeautifulSoup(response.text, 'html.parser')\n",
        "\n",
        "reviews = []\n",
        "parent_asin = \"B00NLZUM36\"\n",
        "# Find all review blocks\n",
        "review_blocks = soup.find_all('div', class_='a-row a-spacing-none')\n",
        "\n",
        "for review_block in review_blocks:\n",
        "    try:\n",
        "        rating = review_block.find('span', class_='a-icon-alt').text.split(' ')[0]  # Extract star rating\n",
        "        review_title = review_block.find('span', class_=None).text  # Extract review title\n",
        "\n",
        "        review_date_full_str = review_block.find('span', {'data-hook': 'review-date'}).text\n",
        "        review_date_str = review_date_full_str.split('on ')[-1]  # Remove prefix 'Reviewed in the United States on'\n",
        "        review_date = datetime.strptime(review_date_str, '%B %d, %Y') # Extract review date\n",
        "        review_date_ms = int(review_date.timestamp() * 1000)\n",
        "\n",
        "        review_body = review_block.find('span', {'data-hook': 'review-body'}).text  # Extract review body\n",
        "\n",
        "        review_text = f\"{review_title}. {review_body}\"\n",
        "\n",
        "        user_id = review_block.find('a', class_='a-profile')['href'].split('.')[2].split('/')[0]  # Extract user ID\n",
        "\n",
        "        review = {\n",
        "            'rating': rating,\n",
        "            'text': review_text,\n",
        "            'parent_asin': parent_asin,\n",
        "            'user_id': user_id,\n",
        "            'timestamp': review_date_ms,\n",
        "\n",
        "\n",
        "        }\n",
        "\n",
        "        reviews.append(review)\n",
        "    except AttributeError:\n",
        "        # Skip review blocks that don't match the expected structure\n",
        "        continue\n",
        "\n",
        "\n",
        "csv_file = 'reviews.csv'\n",
        "\n",
        "# Define CSV headers based on keys in reviews\n",
        "csv_headers = ['rating', 'text', 'parent_asin', 'user_id', 'timestamp']\n",
        "\n",
        "# Write reviews to CSV\n",
        "with open(csv_file, 'w', newline='', encoding='utf-8') as file:\n",
        "    writer = csv.DictWriter(file, fieldnames=csv_headers)\n",
        "    writer.writeheader()\n",
        "    writer.writerows(reviews)\n",
        "\n",
        "print(f'Reviews extracted and saved to {csv_file}')\n",
        "\n"
      ],
      "metadata": {
        "colab": {
          "base_uri": "https://localhost:8080/"
        },
        "id": "T4xuNKRhAZgi",
        "outputId": "d500d2ea-ed9e-4eae-d0b9-0ef075caceb2"
      },
      "execution_count": 31,
      "outputs": [
        {
          "output_type": "stream",
          "name": "stdout",
          "text": [
            "Reviews extracted and saved to reviews.csv\n"
          ]
        }
      ]
    },
    {
      "cell_type": "markdown",
      "source": [],
      "metadata": {
        "id": "jfIPxZ1EjCNW"
      }
    }
  ]
}